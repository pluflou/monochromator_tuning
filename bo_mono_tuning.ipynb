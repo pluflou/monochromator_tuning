{
 "cells": [
  {
   "cell_type": "code",
   "execution_count": null,
   "id": "95b804a3",
   "metadata": {},
   "outputs": [],
   "source": [
    "import epics\n",
    "from bayes_opt import BayesianOptimization\n",
    "import time\n",
    "import datetime"
   ]
  },
  {
   "cell_type": "code",
   "execution_count": null,
   "id": "6f528c73",
   "metadata": {},
   "outputs": [],
   "source": [
    "# accelerator parameters\n",
    "pvname_1 = 'FBCK:FB04:LG01:S3DES'   # BC1 peak current set   \n",
    "pvname_2 = 'ACCL:LI21:1:L1S_S_AV'   # L1S amplitude  \n",
    "pvname_3 = 'ACCL:LI21:1:L1S_S_PV'   # L1S phase\n",
    "pvname_4 = 'ACCL:LI21:180:L1X_S_AV' # L1X amplitude*\n",
    "pvname_5 = 'ACCL:LI21:180:L1X_S_PV' # L1X phase*\n",
    "pvname_6 = 'FBCK:FB04:LG01:S5DES'   # BC2 peak current set*\n",
    "pvname_7 = 'ACCL:LI22:1:ADES'       # L2 amplitude\n",
    "pvname_8 = 'ACCL:LI22:1:PDES'       # L2 phase\n",
    "pvname_9 = 'ACCL:LI25:1:ADES'       # L3 amplitude \n",
    "pvname_10 = 'ACCL:LI25:1:PDES'      # L3 phase\n",
    "# quads?\n",
    "\n",
    "# mono target PV\n",
    "pvname_11 = 'XPP:SB2:BMMON:SUM'     # i2pm sum   "
   ]
  },
  {
   "cell_type": "code",
   "execution_count": null,
   "id": "f01e6bde",
   "metadata": {},
   "outputs": [],
   "source": [
    "# choose some vars \n",
    "def evaluate(var4,var5,var6):\n",
    "\n",
    "    epics.caput(pvname_4,var4)\n",
    "    epics.caput(pvname_5,var5)\n",
    "    epics.caput(pvname_6,var6)\n",
    "\n",
    "    time.sleep(3)\n",
    "    \n",
    "    objective = epics.caget(pvname_11)\n",
    "    \n",
    "    f= open(f\"optimizer_iterations_{timestamp}.txt\", \"a+\")\n",
    "    f.write('%s' % ' '.join(map('{:.4f}'.format, [var4, var5, var6])) + ' {0:.4f}\\n'.format(objective))\n",
    "    f.close()\n",
    "    \n",
    "    return -1*objective\n",
    "\n",
    "def init_state():\n",
    "    var_init = [\n",
    "    epics.caget(pvname_4), \\\n",
    "    epics.caget(pvname_5), \\\n",
    "    epics.caget(pvname_6),\n",
    "    epics.caget(pvname_11)\n",
    "    ]\n",
    "    return var_init"
   ]
  },
  {
   "cell_type": "code",
   "execution_count": null,
   "id": "089b933f",
   "metadata": {},
   "outputs": [],
   "source": [
    "timestamp = (datetime.datetime.now()).strftime(\"%m-%d_%H-%M\")        \n",
    "\n",
    "# save init state\n",
    "var_init = init_state()\n",
    "\n",
    "f= open(f\"optimizer_iterations_{timestamp}.txt\", \"a+\")\n",
    "f.write('%s' % ' '.join(map('{:.4f}'.format, var_init)))\n",
    "f.close()\n",
    "\n",
    "# define optimization bounds\n",
    "pbounds = {'var4': (-5.0, -3.0),\n",
    "           'var5': (2.0, 7.0),\n",
    "           'var6': (-1.0, 2.0)\n",
    "          }\n",
    "\n",
    "optimizer = BayesianOptimization(\n",
    "    f = evaluate,\n",
    "    pbounds = pbounds,\n",
    "    random_state = 1,\n",
    ")\n",
    "\n",
    "optimizer.maximize(\n",
    "    init_points=5,\n",
    "    n_iter=10,\n",
    ")"
   ]
  },
  {
   "cell_type": "code",
   "execution_count": null,
   "id": "a7c3ca4a",
   "metadata": {},
   "outputs": [],
   "source": [
    "# opt_var = optimizer.max['params']['var1']\n",
    "\n",
    "opt_signal = -1*optimizer.max['target']\n",
    "print('optimum signal ', opt_signal)"
   ]
  }
 ],
 "metadata": {
  "kernelspec": {
   "display_name": "Python 3",
   "language": "python",
   "name": "python3"
  },
  "language_info": {
   "codemirror_mode": {
    "name": "ipython",
    "version": 3
   },
   "file_extension": ".py",
   "mimetype": "text/x-python",
   "name": "python",
   "nbconvert_exporter": "python",
   "pygments_lexer": "ipython3",
   "version": "3.8.10"
  }
 },
 "nbformat": 4,
 "nbformat_minor": 5
}
